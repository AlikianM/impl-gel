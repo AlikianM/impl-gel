{
 "cells": [
  {
   "cell_type": "markdown",
   "metadata": {},
   "source": [
    "# Download html reports from cipapi\n",
    "\n",
    "## About: \n",
    "Polling GeL CIPAP and downloading all GMC relevant html reports.\n",
    "These are archived and relevant tables possibly scraped as needed.\n",
    "\n",
    "### Created 07-12-2018 by Graham Rose\n"
   ]
  },
  {
   "cell_type": "code",
   "execution_count": null,
   "metadata": {},
   "outputs": [],
   "source": [
    "%load_ext autoreload\n",
    "%autoreload 2"
   ]
  },
  {
   "cell_type": "markdown",
   "metadata": {},
   "source": [
    "Here we are using the GeL CIPAPI to pull cancer html reports for all imperial cases. Then we parse the html reports to extract specific tables, and write them to csv files. The cvs files can be pushed into the running excel file through a few data source links in excel. "
   ]
  },
  {
   "cell_type": "markdown",
   "metadata": {},
   "source": [
    "First we use two modules that poll the CIPAPI and Authenticante the poll with credentials stored on local system variables.\n",
    "\n",
    "Local file is in: ~/.bash_profile\n",
    "\n",
    "eg. .bash_profile file:\n",
    "\n",
    "export LABKEY_USERNAME=MY_LABKEY_EMAIL_USERNAME\n",
    "\n",
    "export LABKEY_PASSWORD=MY_LABKEY_PASSWORD\n",
    "\n",
    "Parameters to run the html download are:\n",
    "    - sample_type: cancer or raredisease\n",
    "    - search term: eg. specify LDP\n",
    "    - download_html: boolean, cancer relevant only\n",
    "\n",
    "\n",
    "If download_html=True then if the html does not already exist on the local system, it is downloaded."
   ]
  },
  {
   "cell_type": "code",
   "execution_count": null,
   "metadata": {},
   "outputs": [],
   "source": [
    "# poll cipapi, download case reports\n",
    "from poll_cipapi import CipApi\n",
    "from cipauth import Authenticate\n",
    "\n",
    "#ir = CipApi(sample_type='raredisease', search='imperial', download_html=False)\n",
    "ir = CipApi(sample_type='cancer', search='imperial', download_html=True)\n"
   ]
  },
  {
   "cell_type": "markdown",
   "metadata": {},
   "source": [
    "Next parse the downloaded html files to extract  5 specifric html tables:\n",
    "1. 'Participant information'\n",
    "2. 'Tumour information'\n",
    "3. 'Domain 1 somatic variants'\n",
    "4. 'Domain 2 somatic variants'\n",
    "5. 'Sequencing quality information'\n",
    "\n",
    "\n",
    "Each report tables are converted to csv files, and all tables of the same type are concatenated. So you are left with 5 csv files."
   ]
  },
  {
   "cell_type": "code",
   "execution_count": null,
   "metadata": {},
   "outputs": [],
   "source": [
    "# scrape the html reports\n",
    "from cipapi_cancer_scrape_html_reports import *\n",
    "\n",
    "parse_cancer_htmls()"
   ]
  }
 ],
 "metadata": {
  "kernelspec": {
   "display_name": "Python 3",
   "language": "python",
   "name": "python3"
  },
  "language_info": {
   "codemirror_mode": {
    "name": "ipython",
    "version": 3
   },
   "file_extension": ".py",
   "mimetype": "text/x-python",
   "name": "python",
   "nbconvert_exporter": "python",
   "pygments_lexer": "ipython3",
   "version": "3.6.6"
  }
 },
 "nbformat": 4,
 "nbformat_minor": 2
}
